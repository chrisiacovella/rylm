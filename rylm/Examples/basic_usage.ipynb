{
 "cells": [
  {
   "cell_type": "markdown",
   "id": "da1a6621-9ad5-439c-a140-0002daf7cf18",
   "metadata": {},
   "source": [
    "# Basic example of how to use the rylm package to identify the structure of a set of points\n",
    "\n",
    "Let us start by importing numpy and the key classes we will use from the module"
   ]
  },
  {
   "cell_type": "code",
   "execution_count": 1,
   "id": "cca49c00-07b5-4dba-b8e9-75b299ccb50e",
   "metadata": {},
   "outputs": [],
   "source": [
    "import numpy as np\n",
    "from rylm.rylm import Rylm, Similarity"
   ]
  },
  {
   "cell_type": "markdown",
   "id": "b71c6133-2552-4013-9178-082af30df4cf",
   "metadata": {},
   "source": [
    "As a first example, define a set of test points in an ideal square planar arrangement. \n",
    "\n",
    "Note, the first point is assumed to be the origin of the set of points"
   ]
  },
  {
   "cell_type": "code",
   "execution_count": 2,
   "id": "6067ecda-db0b-46af-bd96-950095538779",
   "metadata": {},
   "outputs": [],
   "source": [
    "test_points = np.array(\n",
    "    [\n",
    "        [0.0, 0.0, 0.0],\n",
    "        [1.0, 0.0, 0.0],\n",
    "        [0.0, 1.0, 0.0],\n",
    "        [-1.0, 0.0, 0.0],\n",
    "        [0.0, -1.0, 0.0],\n",
    "    ]\n",
    ")"
   ]
  },
  {
   "cell_type": "markdown",
   "id": "a152d91e-53ee-4820-8350-14ca7b537c8a",
   "metadata": {},
   "source": [
    "## Calculating the Rylm fingerprint\n",
    "\n",
    "Next, we will instantiate the `Rylm` class that is used to calculate the spherical harmonics fingerprint of the system.  \n",
    "\n",
    "By default\n",
    "- the frequencies used are, `frequencies=[4, 6, 8, 10, 12]`\n",
    "- we include the wigner3j values, `include_w=True`\n",
    "- we include the coordination number in the fingerprint, `include_n_coord=True`\n",
    "\n",
    "Inlcuding the coordination number can be useful to help differentiate some structures that have otherwise similar geometries. "
   ]
  },
  {
   "cell_type": "code",
   "execution_count": 3,
   "id": "908222e7-40db-4861-b556-19b4e846485a",
   "metadata": {},
   "outputs": [],
   "source": [
    "rylm = Rylm(include_n_coord=True, include_w=True, frequencies=[4, 6, 8, 10, 12])"
   ]
  },
  {
   "cell_type": "markdown",
   "id": "b241208f-62aa-44b1-a3c7-4177165c0027",
   "metadata": {},
   "source": [
    "To calculate the fingerprint, we pass the test points to the `calculate` function"
   ]
  },
  {
   "cell_type": "code",
   "execution_count": 4,
   "id": "d1bb527d-c700-4399-9fa9-8b5a33314654",
   "metadata": {},
   "outputs": [],
   "source": [
    "fingerprint_test = rylm.calculate(test_points)"
   ]
  },
  {
   "cell_type": "markdown",
   "id": "51dd8d81-1013-43b4-bb7a-50aaf05b8119",
   "metadata": {},
   "source": [
    "The fingerprint is a dataclass that contains some of the useful metadata about the fingerprint, so that when comparing fingerprints we can check they computed on an equivalent basis.\n",
    "\n",
    "The values of the fingerprint itself are stored in a dictionary called `values` within the fingerprint object"
   ]
  },
  {
   "cell_type": "code",
   "execution_count": 7,
   "id": "2e39bbb9-26f8-4cd8-a207-babe8ae5f02b",
   "metadata": {},
   "outputs": [
    {
     "data": {
      "text/plain": [
       "Fingerprint(frequencies=[4, 6, 8, 10, 12], include_w=True, include_n_coord=True, values={'q4': np.float32(0.82915616), 'w4': np.float32(0.124970965), 'q6': np.float32(0.5863019), 'w6': np.float32(-0.0072146733), 'q8': np.float32(0.7979466), 'w8': np.float32(0.06380072), 'q10': np.float32(0.61396503), 'w10': np.float32(-0.016309233), 'q12': np.float32(0.78281087), 'w12': np.float32(0.042356532), 'n_coord': 4})"
      ]
     },
     "execution_count": 7,
     "metadata": {},
     "output_type": "execute_result"
    }
   ],
   "source": [
    "fingerprint_test"
   ]
  },
  {
   "cell_type": "markdown",
   "id": "4d5923bb-b399-4836-ac7c-757c1a117a21",
   "metadata": {},
   "source": [
    "## Calculating similarity\n",
    "\n",
    "Now we can compare the fingerprint of the test points to known fingerprints. For this example, we will compare to fingerprints of square planar, tetrahedral, and octahedral structures.\n",
    "\n",
    "I've included a few different test cases in the data folder. We will load these in, calculate their fingprints, and store them in a dict."
   ]
  },
  {
   "cell_type": "code",
   "execution_count": 9,
   "id": "e04de774-c8a0-4368-9c76-4047dd89448b",
   "metadata": {},
   "outputs": [],
   "source": [
    "from rylm.data import structures as struct\n",
    "\n",
    "\n",
    "tetrahedral_fingerprint = rylm.calculate(struct.tetrahedron)\n",
    "square_planar_fingerprint = rylm.calculate(struct.square_planar)\n",
    "octahedral_fingerprint = rylm.calculate(struct.octahedron)\n",
    "\n",
    "library_of_fingerprints = {\n",
    "    \"tetrahedral\": tetrahedral_fingerprint,\n",
    "    \"square planar\": square_planar_fingerprint,\n",
    "    \"octahedral\": octahedral_fingerprint,\n",
    "}"
   ]
  },
  {
   "cell_type": "markdown",
   "id": "e6d03f3b-8017-4ca6-b0a4-cb01e557d8ee",
   "metadata": {},
   "source": [
    "In the original Rylm paper, we used the Euclidean distance metric to compare fingerprints, where a value of 0 is a perfect match. \n",
    "\n",
    "Here we will instantiate the `Similarity` class to calculate the similarity between fingerprints.  \n",
    "\n",
    "By  default the `Similarity` uses:\n",
    "- the Euclidian distance, `metric=`euclidean` (as that is currently the only function I've added so far)\n",
    "- normalizes the values between 0 and 1, based on the magnitude of the fingerprints, `normalize=True`"
   ]
  },
  {
   "cell_type": "code",
   "execution_count": 10,
   "id": "5304d55b-aa37-4770-b9db-1c743dd17ee5",
   "metadata": {},
   "outputs": [],
   "source": [
    "similarity_metric = Similarity(metric=\"euclidean\", normalize=True)"
   ]
  },
  {
   "cell_type": "markdown",
   "id": "25690f87-b7cb-45b1-891a-b2bcec71af96",
   "metadata": {},
   "source": [
    "To calculate the similarity, we use call the `compute` function and pass the test and known fingerprint.  \n",
    "\n",
    "Here, we will loop over the entries in the `library_of_fingerprints` dict we defined above, keeping track of the best match (i.e., lowest value) "
   ]
  },
  {
   "cell_type": "code",
   "execution_count": 11,
   "id": "c58d660a-7a27-482a-8ce3-b35663f0b78a",
   "metadata": {},
   "outputs": [
    {
     "name": "stdout",
     "output_type": "stream",
     "text": [
      "Similarity between test points and tetrahedral structure: 0.05594049149262718\n",
      "Similarity between test points and square planar structure: 0.0\n",
      "Similarity between test points and octahedral structure: 0.1184366611049144\n",
      "\n",
      "\n",
      "Best match for test points is square planar with similarity 0.0\n"
     ]
    }
   ],
   "source": [
    "best_match = {\"value\": -1, \"name\": \"none\"}\n",
    "for key, fingerprint in library_of_fingerprints.items():\n",
    "    value = similarity_metric.calculate(fingerprint_test, fingerprint)\n",
    "    print(f\"Similarity between test points and {key} structure: {value}\")\n",
    "    if best_match[\"value\"] == -1 or value < best_match[\"value\"]:\n",
    "        best_match[\"value\"] = value\n",
    "        best_match[\"name\"] = key\n",
    "print(\"\\n\")\n",
    "print(\n",
    "    f\"Best match for test points is {best_match['name']} with similarity {best_match['value']}\"\n",
    ")"
   ]
  },
  {
   "cell_type": "markdown",
   "id": "3436034b-7f10-4aee-8f41-a0d1c8c0a093",
   "metadata": {},
   "source": [
    "Not surprisingly, we have the best match with the square planar structure, given that we defined and idealized structure that matches that in the library.\n",
    "\n",
    "Note, the Rylm fingerprint is invariant to rotation. Defining the square planar structure in a slightly different orientation (e.g., in the x-z plane, rather than x-y) is equivalent."
   ]
  },
  {
   "cell_type": "code",
   "execution_count": 12,
   "id": "6d61645e-5376-43b5-9d4a-5f1fb1eac555",
   "metadata": {},
   "outputs": [],
   "source": [
    "test_points = np.array(\n",
    "    [\n",
    "        [0.0, 0.0, 0.0],\n",
    "        [1.0, 0.0, 0.0],\n",
    "        [0.0, 0.0, 1.0],\n",
    "        [-1.0, 0.0, 0.0],\n",
    "        [0.0, 0.0, -1.0],\n",
    "    ]\n",
    ")"
   ]
  },
  {
   "cell_type": "code",
   "execution_count": 14,
   "id": "beaf4a0a-78f1-4c05-9918-c19aa27f5938",
   "metadata": {},
   "outputs": [
    {
     "name": "stdout",
     "output_type": "stream",
     "text": [
      "2.7923603013628186e-08\n"
     ]
    }
   ],
   "source": [
    "fingerprint_test = rylm.calculate(test_points)\n",
    "\n",
    "value = similarity_metric.calculate(fingerprint_test, square_planar_fingerprint)\n",
    "print(value)"
   ]
  },
  {
   "cell_type": "markdown",
   "id": "de7e3c91-3205-4975-85d3-9cf076c02cb8",
   "metadata": {},
   "source": [
    "## Non-ideal structures\n",
    "\n",
    "The use of spherical harmonics is particularly useful when systems have some level of noise/non-ideality, as it can often be somewhat insensitive to small perturbation.  Additionally, we can always add structures to our library that have some predetermined level of noise/non-ideality. \n",
    "\n",
    "To show this, the following takes the square planar structure and applies a random perturbation to the points."
   ]
  },
  {
   "cell_type": "code",
   "execution_count": 15,
   "id": "6b654cc0-a626-45fd-aa8a-fafe6a3400bc",
   "metadata": {},
   "outputs": [
    {
     "name": "stdout",
     "output_type": "stream",
     "text": [
      "[[ 0.02483571 -0.00691322  0.03238443]\n",
      " [ 1.07615149 -0.01170767 -0.01170685]\n",
      " [ 0.07896064  0.03837174  0.97652628]\n",
      " [-0.972872   -0.02317088 -0.02328649]\n",
      " [ 0.01209811 -0.09566401 -1.08624589]]\n"
     ]
    }
   ],
   "source": [
    "np.random.seed(42)  # for reproducibility\n",
    "\n",
    "# To better test, we can perturb the points slightly and see if the best match remains the same\n",
    "perturbed_test_points = test_points + np.random.normal(0, 0.05, test_points.shape)\n",
    "\n",
    "print(perturbed_test_points)"
   ]
  },
  {
   "cell_type": "markdown",
   "id": "05812eff-018e-40c0-b320-d4b164b39df0",
   "metadata": {},
   "source": [
    "We can calculate the fingerprint as before and compare to the known structures, where we still identify this structure as square planar."
   ]
  },
  {
   "cell_type": "code",
   "execution_count": 16,
   "id": "9ad49844-64b2-4f51-9f70-a113dcabb76a",
   "metadata": {},
   "outputs": [
    {
     "name": "stdout",
     "output_type": "stream",
     "text": [
      "\n",
      "Comparing perturbed test points to known structures:\n",
      "Similarity between perturbed test points and tetrahedral structure: 0.052710335039327726\n",
      "Similarity between perturbed test points and square planar structure: 0.004640672707834218\n",
      "Similarity between perturbed test points and octahedral structure: 0.1189650277141725\n",
      "\n",
      "\n",
      "Best match for perturbed test points is square planar with similarity 0.004640672707834218\n"
     ]
    }
   ],
   "source": [
    "fingerprint_perturbed = rylm.calculate(perturbed_test_points)\n",
    "\n",
    "best_match_perturbed = {\"value\": -1, \"name\": \"none\"}\n",
    "print(\"\\nComparing perturbed test points to known structures:\")\n",
    "for key, fingerprint in library_of_fingerprints.items():\n",
    "    value = similarity_metric.calculate(fingerprint_perturbed, fingerprint)\n",
    "    print(f\"Similarity between perturbed test points and {key} structure: {value}\")\n",
    "    if best_match_perturbed[\"value\"] == -1 or value < best_match_perturbed[\"value\"]:\n",
    "        best_match_perturbed[\"value\"] = value\n",
    "        best_match_perturbed[\"name\"] = key\n",
    "print(\"\\n\")\n",
    "print(\n",
    "    f\"Best match for perturbed test points is {best_match_perturbed['name']} with similarity {best_match_perturbed['value']}\"\n",
    ")"
   ]
  },
  {
   "cell_type": "markdown",
   "id": "80c6c153-c69b-4a90-a5fc-6e6be6f2b23a",
   "metadata": {},
   "source": [
    "Below includes two realistic structures taken from systems in the tmqm dataset.  Visually, I identify these as square planar and octahedral, although both are slightly non-ideal."
   ]
  },
  {
   "cell_type": "code",
   "execution_count": 17,
   "id": "6feb7f4e-4c76-4775-964f-ce1d26193e87",
   "metadata": {},
   "outputs": [],
   "source": [
    "# should be square planar, identifier ABAFOZ\n",
    "test_points = np.array(\n",
    "    [\n",
    "        [0.30918241, 0.42624341, 0.37986646],\n",
    "        [0.1073847, 0.40108952, 0.45357848],\n",
    "        [0.23021752, 0.61345033, 0.30564696],\n",
    "        [0.50053981, 0.49386629, 0.33569512],\n",
    "        [0.34640283, 0.22676314, 0.42446571],\n",
    "    ]\n",
    ")\n",
    "\n",
    "fingerprint_test1 = rylm.calculate(test_points)\n",
    "\n",
    "# The follow visually appears octahedral, identifier CECBES\n",
    "test_points2 = np.array(\n",
    "    [\n",
    "        [1.02725949, 0.13879648, 0.38548378],\n",
    "        [1.14499885, 0.23049694, 0.54779695],\n",
    "        [1.22150795, 0.08531673, 0.30058462],\n",
    "        [1.0110957, 0.32119666, 0.30138697],\n",
    "        [0.9162874, 0.07910506, 0.22024935],\n",
    "        [1.01663292, -0.04125328, 0.47262867],\n",
    "        [0.83552833, 0.17913083, 0.47278508],\n",
    "    ]\n",
    ")\n",
    "\n",
    "fingerprint_test2 = rylm.calculate(test_points2)\n",
    "\n",
    "fingerprints = {\"test_system1\": fingerprint_test1, \"test_system2\": fingerprint_test2}\n"
   ]
  },
  {
   "cell_type": "markdown",
   "id": "0eb8bf98-2f0a-4159-841c-08e6cc95aee5",
   "metadata": {},
   "source": [
    "Loop over the two fingerprint and the known library."
   ]
  },
  {
   "cell_type": "code",
   "execution_count": 19,
   "id": "fb9c9060-329b-4ece-834a-bc0fbf874ca7",
   "metadata": {},
   "outputs": [
    {
     "name": "stdout",
     "output_type": "stream",
     "text": [
      "Similarity between test_system1 and tetrahedral structure: 0.04538574365906486\n",
      "Similarity between test_system1 and square planar structure: 0.02940211971267979\n",
      "Similarity between test_system1 and octahedral structure: 0.12462587535679397\n",
      "\n",
      "Best match for test_system1 is square planar with similarity 0.02940211971267979\n",
      "\n",
      "Similarity between test_system2 and tetrahedral structure: 0.13454565970404667\n",
      "Similarity between test_system2 and square planar structure: 0.12068986527982108\n",
      "Similarity between test_system2 and octahedral structure: 0.00798987306621414\n",
      "\n",
      "Best match for test_system2 is octahedral with similarity 0.00798987306621414\n",
      "\n"
     ]
    }
   ],
   "source": [
    "\n",
    "for name, fingerprint in fingerprints.items():\n",
    "    best_match = {\"value\": -1, \"name\": \"none\"}\n",
    "    for key, ref_fingerprint in library_of_fingerprints.items():\n",
    "        value = similarity_metric.calculate(fingerprint, ref_fingerprint)\n",
    "        print(f\"Similarity between {name} and {key} structure: {value}\")\n",
    "        if best_match[\"value\"] == -1 or value < best_match[\"value\"]:\n",
    "            best_match[\"value\"] = value\n",
    "            best_match[\"name\"] = key\n",
    "    print(\n",
    "        f\"\\nBest match for {name} is {best_match['name']} with similarity {best_match['value']}\\n\"\n",
    "    )\n"
   ]
  },
  {
   "cell_type": "code",
   "execution_count": null,
   "id": "765f43a3-8785-43bd-aa1a-43d2acac6331",
   "metadata": {},
   "outputs": [],
   "source": []
  }
 ],
 "metadata": {
  "kernelspec": {
   "display_name": "Python 3 (ipykernel)",
   "language": "python",
   "name": "python3"
  },
  "language_info": {
   "codemirror_mode": {
    "name": "ipython",
    "version": 3
   },
   "file_extension": ".py",
   "mimetype": "text/x-python",
   "name": "python",
   "nbconvert_exporter": "python",
   "pygments_lexer": "ipython3",
   "version": "3.11.13"
  }
 },
 "nbformat": 4,
 "nbformat_minor": 5
}
